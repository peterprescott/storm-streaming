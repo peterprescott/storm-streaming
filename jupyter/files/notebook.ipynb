{
 "cells": [
  {
   "cell_type": "code",
   "execution_count": 1,
   "metadata": {},
   "outputs": [],
   "source": [
    "String tweetText = \"Awful glad vaccine is coming at last! #COVID19\""
   ]
  },
  {
   "cell_type": "code",
   "execution_count": 2,
   "metadata": {},
   "outputs": [
    {
     "name": "stdout",
     "output_type": "stream",
     "text": [
      "Awful glad vaccine is coming at last! #COVID19\n"
     ]
    }
   ],
   "source": [
    "System.out.println(tweetText);"
   ]
  },
  {
   "cell_type": "code",
   "execution_count": 3,
   "metadata": {},
   "outputs": [
    {
     "name": "stdout",
     "output_type": "stream",
     "text": [
      "awful glad vaccine is coming at last covid19\n",
      "is|is|false\n",
      "at|at|false\n",
      "[awful, glad, vaccine, coming, last, covid19]\n"
     ]
    }
   ],
   "source": [
    "import java.util.ArrayList;\n",
    "\n",
    "// convert tweet text to array of words\n",
    "String text = tweetText\n",
    "                .replaceAll(\"\\\\p{Punct}\", \"\")\n",
    "                .replaceAll(\"\\\\r|\\\\n\", \"\")\n",
    "                .toLowerCase();\n",
    "System.out.println(text);\n",
    "\n",
    "String[] words = text.split(\" \");\n",
    "\n",
    "// We define an array of irrelevant words to be filtered out\n",
    "String[] irrelevantWords = {\"is\", \"at\", \"http\", \"https\", \"football\"};\n",
    "\n",
    "// filter words which match irrelevantWords\n",
    "\n",
    "// first we create an extensible ArrayList to add filtered words to\n",
    "ArrayList<String> filteredWords = new ArrayList<String>();\n",
    "\n",
    "// we assume each word is relevant to begin with...\n",
    "boolean relevant;\n",
    "\n",
    "// ... and then we check by iterating over each word...\n",
    "for (String w : words){\n",
    "    \n",
    "    // ... assuming initially that it is relevant ...\n",
    "    relevant = true;\n",
    "    \n",
    "    // ... and iterating over each irrelevant word ...\n",
    "    for (String irrelevant : irrelevantWords){\n",
    "        \n",
    "        // ... and if a word is the same as an irrelevant word\n",
    "        if (w.equals(irrelevant)){ \n",
    "            \n",
    "            // ... we know that it is not relevant.\n",
    "            relevant = false; \n",
    "            System.out.println(w+\"|\"+irrelevant+\"|\"+relevant);\n",
    "        }\n",
    "    }\n",
    "    // If, having compared the word to all the irrelevant words,\n",
    "    // it is still found to be relevant, we add it to our ArrayList.\n",
    "    if (relevant == true){filteredWords.add(w);}\n",
    "}\n",
    "// NB: This is not the most efficient method of filtering words,\n",
    "// but it is the most simple to understand and implement.\n",
    "\n",
    "System.out.println(filteredWords);\n"
   ]
  },
  {
   "cell_type": "code",
   "execution_count": 4,
   "metadata": {},
   "outputs": [
    {
     "name": "stdout",
     "output_type": "stream",
     "text": [
      "1\n"
     ]
    }
   ],
   "source": [
    "/*\n",
    "    count words which match positive/negative words\n",
    "*/\n",
    "\n",
    "// We define a list of positive words\n",
    "String[] positiveWords = {\"glad\", \"fantastic\", \"brilliant\"};\n",
    "\n",
    "// The positive score starts at zero...\n",
    "int positiveScore = 0;\n",
    "\n",
    "// ... but we iterate over our list of filtered words\n",
    "for (String w : filteredWords){\n",
    "    for (String positive : positiveWords){\n",
    "        \n",
    "        // ... and increase by one for every positive word in the list.\n",
    "        if (w.equals(positive)){\n",
    "            positiveScore++;\n",
    "        }\n",
    "    }\n",
    "}\n",
    "\n",
    "System.out.println(positiveScore);"
   ]
  },
  {
   "cell_type": "code",
   "execution_count": 5,
   "metadata": {},
   "outputs": [],
   "source": [
    "// write to file"
   ]
  }
 ],
 "metadata": {
  "kernelspec": {
   "display_name": "Java",
   "language": "java",
   "name": "java"
  },
  "language_info": {
   "codemirror_mode": "java",
   "file_extension": ".jshell",
   "mimetype": "text/x-java-source",
   "name": "Java",
   "pygments_lexer": "java",
   "version": "11.0.4+11-LTS"
  },
  "toc-autonumbering": false,
  "toc-showcode": true,
  "toc-showmarkdowntxt": false,
  "toc-showtags": false
 },
 "nbformat": 4,
 "nbformat_minor": 4
}
